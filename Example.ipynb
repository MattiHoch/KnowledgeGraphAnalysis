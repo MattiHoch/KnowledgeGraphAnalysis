{
 "cells": [
  {
   "cell_type": "markdown",
   "id": "b0771478-b37c-4691-aee1-f9c4d268bf74",
   "metadata": {
    "tags": []
   },
   "source": [
    "# Environment Setup\n",
    "\n",
    "This notebook is designed for Python version **3.11.5** and requires several external packages to run correctly. Below is a list of necessary packages:\n",
    "\n",
    "- **IPython**: For powerful interactive shells.\n",
    "- **Pillow** (PIL): For image processing capabilities.\n",
    "- **ipywidgets**: For interactive HTML widgets.\n",
    "- **joblib**: For lightweight pipelining.\n",
    "- **matplotlib**: For creating visualizations.\n",
    "- **networkx**: For creating and manipulating complex networks.\n",
    "- **numba**: For JIT compilation.\n",
    "- **numpy**: For support with large, multi-dimensional arrays and matrices.\n",
    "- **pandas**: For data manipulation and analysis.\n",
    "- **requests**: For sending HTTP requests.\n",
    "- **scipy**: For scientific and technical computing.\n",
    "- **seaborn**: For drawing attractive statistical graphics.\n",
    "- **scikit-learn** (sklearn): For machine learning.\n",
    "- **statsmodels**: For statistical modeling.\n",
    "- **d3blocks**: For creating chord diagrams.\n",
    "\n",
    "To install these packages, run the following command in a code cell:\n",
    "\n",
    "```python\n",
    "!pip install IPython Pillow ipywidgets joblib matplotlib networkx numba numpy pandas requests scipy seaborn scikit-learn statsmodels d3blocks\n",
    "```\n",
    "\n",
    "Ensure that all packages are installed before proceeding to run the analyses in this notebook."
   ]
  },
  {
   "cell_type": "code",
   "execution_count": null,
   "id": "99cfaf63-2c57-4641-8ad0-21ba91927a40",
   "metadata": {
    "tags": []
   },
   "outputs": [],
   "source": [
    "from abm import *\n",
    "from read_sbml import create_model, read_interaction_tables"
   ]
  },
  {
   "cell_type": "markdown",
   "id": "7aa8c8d7-004c-46ee-a6ca-e11e0381afe5",
   "metadata": {},
   "source": [
    "# Uncompartmentalized Model"
   ]
  },
  {
   "cell_type": "markdown",
   "id": "0f8a045f-e49c-4ea8-a4e3-f2f965ba8ab5",
   "metadata": {
    "tags": []
   },
   "source": [
    "## Loading the Submaps"
   ]
  },
  {
   "cell_type": "code",
   "execution_count": null,
   "id": "6f784891-1814-4f16-9d8a-5bbf5d6c46cf",
   "metadata": {
    "tags": []
   },
   "outputs": [],
   "source": [
    "air_model = create_model(\"Example Maps/AIR\")"
   ]
  },
  {
   "cell_type": "markdown",
   "id": "c5d1f167-c5b3-4ee8-8be3-54dea42535a4",
   "metadata": {},
   "source": [
    "## Visualize Topological Weightings"
   ]
  },
  {
   "cell_type": "code",
   "execution_count": null,
   "id": "f71dfb6f-add7-458d-8d80-602f1fceddc7",
   "metadata": {},
   "outputs": [],
   "source": [
    "phenotype = air_model.get_node_from_name(\"prostaglandin synthesis\")\n",
    "weightings = air_model.get_influence_scores(phenotypes = [phenotype])[\"values\"][phenotype]"
   ]
  },
  {
   "cell_type": "code",
   "execution_count": null,
   "id": "3ab28411-2bd6-4497-a7b6-6f4a56a47024",
   "metadata": {},
   "outputs": [],
   "source": [
    "air_model.highlight_on_map('Biosynthesis of PIM and SPM from AA.xml', max_width = 5000, highlights = weightings).save(\"test.jpg\", dpi = (900,900))"
   ]
  },
  {
   "cell_type": "markdown",
   "id": "c87b3453-f20e-4daa-8fad-eeb286e67ffb",
   "metadata": {
    "tags": []
   },
   "source": [
    "## Load the Data File"
   ]
  },
  {
   "cell_type": "code",
   "execution_count": null,
   "id": "2871fdbd-cdd0-423c-a663-120a8b3666ef",
   "metadata": {
    "tags": []
   },
   "outputs": [],
   "source": [
    "data = pd.read_csv(\"Data Files/ColitisFCData_pvalues.txt\", index_col = 0)"
   ]
  },
  {
   "cell_type": "markdown",
   "id": "172fd2f7-16ce-43bf-8e13-1199c4ff061f",
   "metadata": {},
   "source": [
    "## Perform Enrichment Analysis"
   ]
  },
  {
   "cell_type": "code",
   "execution_count": null,
   "id": "af37370f-77d1-4167-b67d-2b7a36f15142",
   "metadata": {
    "tags": []
   },
   "outputs": [],
   "source": [
    "results = air_model.data_enrichment(data)"
   ]
  },
  {
   "cell_type": "code",
   "execution_count": null,
   "id": "bcf52841-070d-44a7-a096-307c196148ea",
   "metadata": {
    "tags": []
   },
   "outputs": [],
   "source": [
    "air_model.circle_plot(results, figsize = (10,10))"
   ]
  },
  {
   "cell_type": "markdown",
   "id": "d6aea93a-019c-4d88-9926-8b6f680e8f75",
   "metadata": {},
   "source": [
    "# Compartmental Boolean Model"
   ]
  },
  {
   "cell_type": "code",
   "execution_count": null,
   "id": "aee2a815-712c-46e9-ab31-c7f5baa66422",
   "metadata": {
    "tags": []
   },
   "outputs": [],
   "source": [
    "sarcopenia_model = create_model(\"Example Maps/Sarcopenia\", compartment_specific = True)"
   ]
  },
  {
   "cell_type": "markdown",
   "id": "011aba83-32ec-4cde-b450-263bf472b452",
   "metadata": {},
   "source": [
    "## Boolean Simulation"
   ]
  },
  {
   "cell_type": "code",
   "execution_count": null,
   "id": "1a894d5c-4672-483b-a10e-4453e59dbfda",
   "metadata": {
    "tags": []
   },
   "outputs": [],
   "source": [
    "for node in sarcopenia_model.nodes:\n",
    "    if node.compartment == \"\":\n",
    "        node.default_state = False\n",
    "\n",
    "perturbations = {\n",
    "    sarcopenia_model.get_node_from_name(\"alcohol consumption\"): [-1],\n",
    "    sarcopenia_model.get_node_from_name(\"exercise\"): [-1],\n",
    "    sarcopenia_model.get_node_from_name(\"food intake\"): 5*[1] + 10*[-1],\n",
    "    sarcopenia_model.get_node_from_name(\"cirrhosis\"): [-1],\n",
    "    sarcopenia_model.get_node_from_name(\"lep\"): [-1],\n",
    "    sarcopenia_model.get_node_from_name(\"intestinal dysfunction\"): [-1],\n",
    "}"
   ]
  },
  {
   "cell_type": "code",
   "execution_count": null,
   "id": "02f8d247-b187-453e-9318-cd12fd9e0ab3",
   "metadata": {
    "tags": []
   },
   "outputs": [],
   "source": [
    "sarcopenia_model.show_boolean_simulation(\"Liver.xml\", max_steps = 500, conditions = perturbations)"
   ]
  },
  {
   "cell_type": "markdown",
   "id": "2a17ef32-9862-4d0b-a9a6-6db4a60ae723",
   "metadata": {},
   "source": [
    "## Chord Diagram"
   ]
  },
  {
   "cell_type": "code",
   "execution_count": null,
   "id": "f3602721-9109-40b7-b7fd-1eb3bb1dfac0",
   "metadata": {
    "tags": []
   },
   "outputs": [],
   "source": [
    "masld_model = create_model(\"Example Maps/MASLD\", compartment_specific = True)"
   ]
  },
  {
   "cell_type": "code",
   "execution_count": null,
   "id": "ac1ddfba-f200-4722-9455-ce148f03533a",
   "metadata": {
    "tags": []
   },
   "outputs": [],
   "source": [
    "masld_model.chord_plot(highlighted = [\"hepatocyte\"])"
   ]
  },
  {
   "cell_type": "markdown",
   "id": "671a3a33-8aeb-4d8b-ba97-4d23a37faf61",
   "metadata": {},
   "source": [
    "## Spatial Boolean Simulation"
   ]
  },
  {
   "cell_type": "code",
   "execution_count": null,
   "id": "df79995a-7f53-4874-b6f1-dfc4c17f8a51",
   "metadata": {
    "tags": []
   },
   "outputs": [],
   "source": [
    "abm = ABM(r\"Example Maps/MASLD\", \n",
    "          agentmaps = [\"Hepatocyte.xml\", \"Hepatocyte Apoptosis.xml\", \"Vitamins and Trace Elements.xml\", \"Bile Acids.xml\", \"Cholesterol Synthesis and Effects.xml\"], \n",
    "          outsidemaps = [\"Digestion and Absorption.xml\", \"Adipose Tissue.xml\", \"Endocrine Pancreas.xml\"], \n",
    "          image = r\"Example Maps/MASLD/liver_agents.png\",  \n",
    "          grid_size = 50, \n",
    "          agents_per_quadrant = 5, \n",
    "          seed = 9157)"
   ]
  },
  {
   "cell_type": "code",
   "execution_count": null,
   "id": "80bc289b-fd68-4c0a-b7b9-66988b5fcfb8",
   "metadata": {
    "tags": []
   },
   "outputs": [],
   "source": [
    "abm.run_abm(steps = 400,food_prob = 100*[1]+100*[-1],\n",
    "            perturbednodes = [\"cirrhosis\", \"intestinal dysfunction\", \"alcohol consumption\", \"portal hypertension\", \"Exercise\", \"acot1\", \"ADM\", \"Alcohol Consumption\"])"
   ]
  },
  {
   "cell_type": "code",
   "execution_count": null,
   "id": "fa828b27-fb0c-4d2f-bc4a-8cb53eaeee23",
   "metadata": {
    "tags": []
   },
   "outputs": [],
   "source": [
    "abm.show_activity_plot([\n",
    "    abm.agent_model.get_node_from_name(\"tag\", compartment = \"hepatocyte\"),\n",
    "    abm.agent_model.get_node_from_name(\"glycogen\", compartment = \"hepatocyte\"),\n",
    "    abm.agent_model.get_node_from_name(\"insulin resistance\", compartment = \"hepatocyte\"),\n",
    "], normalize = True, pi = 100, steps = None)"
   ]
  },
  {
   "cell_type": "code",
   "execution_count": null,
   "id": "fa27de9a-df55-44fe-b1bd-6330093f208d",
   "metadata": {
    "tags": []
   },
   "outputs": [],
   "source": [
    "abm.show_agents(r\"LiverMap.xml\", abm.agent_model.get_node_from_name(\"tag\", compartment = \"hepatocyte\"))"
   ]
  },
  {
   "cell_type": "code",
   "execution_count": null,
   "id": "f247d25e-8f46-4550-b219-479067befee0",
   "metadata": {},
   "outputs": [],
   "source": []
  }
 ],
 "metadata": {
  "kernelspec": {
   "display_name": "Python 3 (ipykernel)",
   "language": "python",
   "name": "python3"
  },
  "language_info": {
   "codemirror_mode": {
    "name": "ipython",
    "version": 3
   },
   "file_extension": ".py",
   "mimetype": "text/x-python",
   "name": "python",
   "nbconvert_exporter": "python",
   "pygments_lexer": "ipython3",
   "version": "3.11.5"
  }
 },
 "nbformat": 4,
 "nbformat_minor": 5
}
